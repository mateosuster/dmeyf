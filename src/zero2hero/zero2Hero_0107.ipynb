{
 "cells": [
  {
   "cell_type": "markdown",
   "metadata": {},
   "source": [
    "# Zero to Hero"
   ]
  },
  {
   "cell_type": "markdown",
   "metadata": {},
   "source": [
    "## 1.07 Aplicando el arbol"
   ]
  },
  {
   "cell_type": "markdown",
   "metadata": {},
   "source": [
    "Se aplicará el modelo generado por rpart a los datos nuevos y se genera la salida para Kaggle"
   ]
  },
  {
   "cell_type": "code",
   "execution_count": 1,
   "metadata": {},
   "outputs": [
    {
     "data": {
      "text/html": [
       "<table class=\"dataframe\">\n",
       "<caption>A matrix: 2 × 6 of type dbl</caption>\n",
       "<thead>\n",
       "\t<tr><th></th><th scope=col>used</th><th scope=col>(Mb)</th><th scope=col>gc trigger</th><th scope=col>(Mb)</th><th scope=col>max used</th><th scope=col>(Mb)</th></tr>\n",
       "</thead>\n",
       "<tbody>\n",
       "\t<tr><th scope=row>Ncells</th><td> 555389</td><td>29.7</td><td>1175895</td><td>62.8</td><td>1003444</td><td>53.6</td></tr>\n",
       "\t<tr><th scope=row>Vcells</th><td>1014911</td><td> 7.8</td><td>8388608</td><td>64.0</td><td>1632009</td><td>12.5</td></tr>\n",
       "</tbody>\n",
       "</table>\n"
      ],
      "text/latex": [
       "A matrix: 2 × 6 of type dbl\n",
       "\\begin{tabular}{r|llllll}\n",
       "  & used & (Mb) & gc trigger & (Mb) & max used & (Mb)\\\\\n",
       "\\hline\n",
       "\tNcells &  555389 & 29.7 & 1175895 & 62.8 & 1003444 & 53.6\\\\\n",
       "\tVcells & 1014911 &  7.8 & 8388608 & 64.0 & 1632009 & 12.5\\\\\n",
       "\\end{tabular}\n"
      ],
      "text/markdown": [
       "\n",
       "A matrix: 2 × 6 of type dbl\n",
       "\n",
       "| <!--/--> | used | (Mb) | gc trigger | (Mb) | max used | (Mb) |\n",
       "|---|---|---|---|---|---|---|\n",
       "| Ncells |  555389 | 29.7 | 1175895 | 62.8 | 1003444 | 53.6 |\n",
       "| Vcells | 1014911 |  7.8 | 8388608 | 64.0 | 1632009 | 12.5 |\n",
       "\n"
      ],
      "text/plain": [
       "       used    (Mb) gc trigger (Mb) max used (Mb)\n",
       "Ncells  555389 29.7 1175895    62.8 1003444  53.6\n",
       "Vcells 1014911  7.8 8388608    64.0 1632009  12.5"
      ]
     },
     "metadata": {},
     "output_type": "display_data"
    }
   ],
   "source": [
    "rm( list=ls())\n",
    "gc()\n",
    "\n",
    "library( \"data.table\")   #cargo la libreria  data.table\n",
    "library( \"rpart\")  #cargo la libreria  rpart\n",
    "library( \"rpart.plot\")\n",
    "\n",
    "options(repr.plot.width=20, repr.plot.height=10) \n",
    "setwd(\"C:/Archivos/dmeyf\")  #se establece el directorio de trabajo\n"
   ]
  },
  {
   "cell_type": "code",
   "execution_count": 3,
   "metadata": {},
   "outputs": [],
   "source": [
    "dtrain <- data.table::fread(\"./datasetsOri/paquete_premium_202009.csv\")   #cargo el dataset"
   ]
  },
  {
   "cell_type": "code",
   "execution_count": 4,
   "metadata": {},
   "outputs": [],
   "source": [
    "#genero el modelo\n",
    "modelo <-  rpart::rpart(formula= \"clase_ternaria ~ .\" ,\n",
    "                        data= dtrain,\n",
    "                        xval= 0,\n",
    "                        cp= -1,\n",
    "                        maxdepth= 2 )"
   ]
  },
  {
   "cell_type": "markdown",
   "metadata": {},
   "source": [
    "Cargo el dataset a donde voy a aplicar el modelo"
   ]
  },
  {
   "cell_type": "code",
   "execution_count": 6,
   "metadata": {},
   "outputs": [],
   "source": [
    "dapply <- data.table::fread(\"./datasetsOri/paquete_premium_202011.csv\")   #cargo el dataset"
   ]
  },
  {
   "cell_type": "markdown",
   "metadata": {},
   "source": [
    "Aplico el modelo a los datos dapply  pidiendo que me devuelva probabildades"
   ]
  },
  {
   "cell_type": "code",
   "execution_count": 7,
   "metadata": {},
   "outputs": [],
   "source": [
    "prediccion  <- predict( modelo, dapply, type = \"prob\")"
   ]
  },
  {
   "cell_type": "markdown",
   "metadata": {},
   "source": [
    "Analizo que queda en prediccion"
   ]
  },
  {
   "cell_type": "code",
   "execution_count": 8,
   "metadata": {},
   "outputs": [
    {
     "data": {
      "text/html": [
       "<table class=\"dataframe\">\n",
       "<caption>A matrix: 6 × 3 of type dbl</caption>\n",
       "<thead>\n",
       "\t<tr><th></th><th scope=col>BAJA+1</th><th scope=col>BAJA+2</th><th scope=col>CONTINUA</th></tr>\n",
       "</thead>\n",
       "<tbody>\n",
       "\t<tr><th scope=row>1</th><td>0.0008329049</td><td>0.001053985</td><td>0.9981131</td></tr>\n",
       "\t<tr><th scope=row>2</th><td>0.0008329049</td><td>0.001053985</td><td>0.9981131</td></tr>\n",
       "\t<tr><th scope=row>3</th><td>0.0008329049</td><td>0.001053985</td><td>0.9981131</td></tr>\n",
       "\t<tr><th scope=row>4</th><td>0.0008329049</td><td>0.001053985</td><td>0.9981131</td></tr>\n",
       "\t<tr><th scope=row>5</th><td>0.0008329049</td><td>0.001053985</td><td>0.9981131</td></tr>\n",
       "\t<tr><th scope=row>6</th><td>0.0008329049</td><td>0.001053985</td><td>0.9981131</td></tr>\n",
       "</tbody>\n",
       "</table>\n"
      ],
      "text/latex": [
       "A matrix: 6 × 3 of type dbl\n",
       "\\begin{tabular}{r|lll}\n",
       "  & BAJA+1 & BAJA+2 & CONTINUA\\\\\n",
       "\\hline\n",
       "\t1 & 0.0008329049 & 0.001053985 & 0.9981131\\\\\n",
       "\t2 & 0.0008329049 & 0.001053985 & 0.9981131\\\\\n",
       "\t3 & 0.0008329049 & 0.001053985 & 0.9981131\\\\\n",
       "\t4 & 0.0008329049 & 0.001053985 & 0.9981131\\\\\n",
       "\t5 & 0.0008329049 & 0.001053985 & 0.9981131\\\\\n",
       "\t6 & 0.0008329049 & 0.001053985 & 0.9981131\\\\\n",
       "\\end{tabular}\n"
      ],
      "text/markdown": [
       "\n",
       "A matrix: 6 × 3 of type dbl\n",
       "\n",
       "| <!--/--> | BAJA+1 | BAJA+2 | CONTINUA |\n",
       "|---|---|---|---|\n",
       "| 1 | 0.0008329049 | 0.001053985 | 0.9981131 |\n",
       "| 2 | 0.0008329049 | 0.001053985 | 0.9981131 |\n",
       "| 3 | 0.0008329049 | 0.001053985 | 0.9981131 |\n",
       "| 4 | 0.0008329049 | 0.001053985 | 0.9981131 |\n",
       "| 5 | 0.0008329049 | 0.001053985 | 0.9981131 |\n",
       "| 6 | 0.0008329049 | 0.001053985 | 0.9981131 |\n",
       "\n"
      ],
      "text/plain": [
       "  BAJA+1       BAJA+2      CONTINUA \n",
       "1 0.0008329049 0.001053985 0.9981131\n",
       "2 0.0008329049 0.001053985 0.9981131\n",
       "3 0.0008329049 0.001053985 0.9981131\n",
       "4 0.0008329049 0.001053985 0.9981131\n",
       "5 0.0008329049 0.001053985 0.9981131\n",
       "6 0.0008329049 0.001053985 0.9981131"
      ]
     },
     "metadata": {},
     "output_type": "display_data"
    }
   ],
   "source": [
    "head( prediccion )"
   ]
  },
  {
   "cell_type": "markdown",
   "metadata": {},
   "source": [
    "Prediccion es una matriz; me interesa la columna \"BAJA+2\"  que es la probabilidad que modelo asigna a cada registro de dapply"
   ]
  },
  {
   "cell_type": "code",
   "execution_count": 9,
   "metadata": {},
   "outputs": [],
   "source": [
    "prob_baja2  <- prediccion[, \"BAJA+2\"]"
   ]
  },
  {
   "cell_type": "code",
   "execution_count": 10,
   "metadata": {},
   "outputs": [
    {
     "data": {
      "text/html": [
       "<style>\n",
       ".dl-inline {width: auto; margin:0; padding: 0}\n",
       ".dl-inline>dt, .dl-inline>dd {float: none; width: auto; display: inline-block}\n",
       ".dl-inline>dt::after {content: \":\\0020\"; padding-right: .5ex}\n",
       ".dl-inline>dt:not(:first-of-type) {padding-left: .5ex}\n",
       "</style><dl class=dl-inline><dt>1</dt><dd>0.00105398457583548</dd><dt>2</dt><dd>0.00105398457583548</dd><dt>3</dt><dd>0.00105398457583548</dd><dt>4</dt><dd>0.00105398457583548</dd><dt>5</dt><dd>0.00105398457583548</dd><dt>6</dt><dd>0.00105398457583548</dd></dl>\n"
      ],
      "text/latex": [
       "\\begin{description*}\n",
       "\\item[1] 0.00105398457583548\n",
       "\\item[2] 0.00105398457583548\n",
       "\\item[3] 0.00105398457583548\n",
       "\\item[4] 0.00105398457583548\n",
       "\\item[5] 0.00105398457583548\n",
       "\\item[6] 0.00105398457583548\n",
       "\\end{description*}\n"
      ],
      "text/markdown": [
       "1\n",
       ":   0.001053984575835482\n",
       ":   0.001053984575835483\n",
       ":   0.001053984575835484\n",
       ":   0.001053984575835485\n",
       ":   0.001053984575835486\n",
       ":   0.00105398457583548\n",
       "\n"
      ],
      "text/plain": [
       "          1           2           3           4           5           6 \n",
       "0.001053985 0.001053985 0.001053985 0.001053985 0.001053985 0.001053985 "
      ]
     },
     "metadata": {},
     "output_type": "display_data"
    }
   ],
   "source": [
    "head( prob_baja2)"
   ]
  },
  {
   "cell_type": "markdown",
   "metadata": {},
   "source": [
    "prob_baja2 es el vector de probabilidades"
   ]
  },
  {
   "cell_type": "code",
   "execution_count": 13,
   "metadata": {},
   "outputs": [
    {
     "data": {
      "text/html": [
       "238986"
      ],
      "text/latex": [
       "238986"
      ],
      "text/markdown": [
       "238986"
      ],
      "text/plain": [
       "[1] 238986"
      ]
     },
     "metadata": {},
     "output_type": "display_data"
    },
    {
     "data": {
      "text/html": [
       "238986"
      ],
      "text/latex": [
       "238986"
      ],
      "text/markdown": [
       "238986"
      ],
      "text/plain": [
       "[1] 238986"
      ]
     },
     "metadata": {},
     "output_type": "display_data"
    }
   ],
   "source": [
    "length( prob_baja2 )\n",
    "nrow( dapply )"
   ]
  },
  {
   "cell_type": "markdown",
   "metadata": {},
   "source": [
    "Ahora decido si envio el estimulo o no\n",
    "<br>\n",
    "si prob( BAJA+2) > 0.025  envio  el estímulo"
   ]
  },
  {
   "cell_type": "code",
   "execution_count": 14,
   "metadata": {},
   "outputs": [],
   "source": [
    "Predicted   <- ifelse( prob_baja2 > 0.025, 1, 0 )"
   ]
  },
  {
   "cell_type": "code",
   "execution_count": 15,
   "metadata": {},
   "outputs": [
    {
     "data": {
      "text/html": [
       "<style>\n",
       ".dl-inline {width: auto; margin:0; padding: 0}\n",
       ".dl-inline>dt, .dl-inline>dd {float: none; width: auto; display: inline-block}\n",
       ".dl-inline>dt::after {content: \":\\0020\"; padding-right: .5ex}\n",
       ".dl-inline>dt:not(:first-of-type) {padding-left: .5ex}\n",
       "</style><dl class=dl-inline><dt>1</dt><dd>0</dd><dt>2</dt><dd>0</dd><dt>3</dt><dd>0</dd><dt>4</dt><dd>0</dd><dt>5</dt><dd>0</dd><dt>6</dt><dd>0</dd></dl>\n"
      ],
      "text/latex": [
       "\\begin{description*}\n",
       "\\item[1] 0\n",
       "\\item[2] 0\n",
       "\\item[3] 0\n",
       "\\item[4] 0\n",
       "\\item[5] 0\n",
       "\\item[6] 0\n",
       "\\end{description*}\n"
      ],
      "text/markdown": [
       "1\n",
       ":   02\n",
       ":   03\n",
       ":   04\n",
       ":   05\n",
       ":   06\n",
       ":   0\n",
       "\n"
      ],
      "text/plain": [
       "1 2 3 4 5 6 \n",
       "0 0 0 0 0 0 "
      ]
     },
     "metadata": {},
     "output_type": "display_data"
    }
   ],
   "source": [
    "head( Predicted)"
   ]
  },
  {
   "cell_type": "code",
   "execution_count": 16,
   "metadata": {},
   "outputs": [
    {
     "data": {
      "image/png": "[encoded data removed]",
      "text/plain": [
       "Plot with title \"Histogram of Predicted\""
      ]
     },
     "metadata": {
      "image/png": {
       "height": 600,
       "width": 1200
      }
     },
     "output_type": "display_data"
    }
   ],
   "source": [
    "hist( Predicted)"
   ]
  },
  {
   "cell_type": "markdown",
   "metadata": {},
   "source": [
    "creo una tabla con  lo que voy a enviar a Kaggle"
   ]
  },
  {
   "cell_type": "code",
   "execution_count": 17,
   "metadata": {},
   "outputs": [],
   "source": [
    "entrega  <-  as.data.table( list( \"numero_de_cliente\"=dapply$numero_de_cliente, \"Predicted\"=Predicted)  )"
   ]
  },
  {
   "cell_type": "code",
   "execution_count": 18,
   "metadata": {},
   "outputs": [
    {
     "data": {
      "text/html": [
       "<table class=\"dataframe\">\n",
       "<caption>A data.table: 6 × 2</caption>\n",
       "<thead>\n",
       "\t<tr><th scope=col>numero_de_cliente</th><th scope=col>Predicted</th></tr>\n",
       "\t<tr><th scope=col>&lt;int&gt;</th><th scope=col>&lt;dbl&gt;</th></tr>\n",
       "</thead>\n",
       "<tbody>\n",
       "\t<tr><td>4572294</td><td>0</td></tr>\n",
       "\t<tr><td>4572366</td><td>0</td></tr>\n",
       "\t<tr><td>4572633</td><td>0</td></tr>\n",
       "\t<tr><td>4572728</td><td>0</td></tr>\n",
       "\t<tr><td>4572765</td><td>0</td></tr>\n",
       "\t<tr><td>4572913</td><td>0</td></tr>\n",
       "</tbody>\n",
       "</table>\n"
      ],
      "text/latex": [
       "A data.table: 6 × 2\n",
       "\\begin{tabular}{ll}\n",
       " numero\\_de\\_cliente & Predicted\\\\\n",
       " <int> & <dbl>\\\\\n",
       "\\hline\n",
       "\t 4572294 & 0\\\\\n",
       "\t 4572366 & 0\\\\\n",
       "\t 4572633 & 0\\\\\n",
       "\t 4572728 & 0\\\\\n",
       "\t 4572765 & 0\\\\\n",
       "\t 4572913 & 0\\\\\n",
       "\\end{tabular}\n"
      ],
      "text/markdown": [
       "\n",
       "A data.table: 6 × 2\n",
       "\n",
       "| numero_de_cliente &lt;int&gt; | Predicted &lt;dbl&gt; |\n",
       "|---|---|\n",
       "| 4572294 | 0 |\n",
       "| 4572366 | 0 |\n",
       "| 4572633 | 0 |\n",
       "| 4572728 | 0 |\n",
       "| 4572765 | 0 |\n",
       "| 4572913 | 0 |\n",
       "\n"
      ],
      "text/plain": [
       "  numero_de_cliente Predicted\n",
       "1 4572294           0        \n",
       "2 4572366           0        \n",
       "3 4572633           0        \n",
       "4 4572728           0        \n",
       "5 4572765           0        \n",
       "6 4572913           0        "
      ]
     },
     "metadata": {},
     "output_type": "display_data"
    }
   ],
   "source": [
    "head( entrega)"
   ]
  },
  {
   "cell_type": "code",
   "execution_count": 19,
   "metadata": {},
   "outputs": [
    {
     "data": {
      "text/html": [
       "<table class=\"dataframe\">\n",
       "<caption>A data.table: 2 × 2</caption>\n",
       "<thead>\n",
       "\t<tr><th scope=col>Predicted</th><th scope=col>N</th></tr>\n",
       "\t<tr><th scope=col>&lt;dbl&gt;</th><th scope=col>&lt;int&gt;</th></tr>\n",
       "</thead>\n",
       "<tbody>\n",
       "\t<tr><td>0</td><td>232256</td></tr>\n",
       "\t<tr><td>1</td><td>  6730</td></tr>\n",
       "</tbody>\n",
       "</table>\n"
      ],
      "text/latex": [
       "A data.table: 2 × 2\n",
       "\\begin{tabular}{ll}\n",
       " Predicted & N\\\\\n",
       " <dbl> & <int>\\\\\n",
       "\\hline\n",
       "\t 0 & 232256\\\\\n",
       "\t 1 &   6730\\\\\n",
       "\\end{tabular}\n"
      ],
      "text/markdown": [
       "\n",
       "A data.table: 2 × 2\n",
       "\n",
       "| Predicted &lt;dbl&gt; | N &lt;int&gt; |\n",
       "|---|---|\n",
       "| 0 | 232256 |\n",
       "| 1 |   6730 |\n",
       "\n"
      ],
      "text/plain": [
       "  Predicted N     \n",
       "1 0         232256\n",
       "2 1           6730"
      ]
     },
     "metadata": {},
     "output_type": "display_data"
    }
   ],
   "source": [
    "entrega[ , .N, Predicted]"
   ]
  },
  {
   "cell_type": "markdown",
   "metadata": {},
   "source": [
    "Esto significa que se enviaran 8157 estímulos"
   ]
  },
  {
   "cell_type": "code",
   "execution_count": 20,
   "metadata": {},
   "outputs": [],
   "source": [
    "#genero el archivo para Kaggle\n",
    "fwrite( entrega, \n",
    "        file= \"./kaggle/para_Kaggle_0107.csv\",\n",
    "        sep=  \",\" )"
   ]
  },
  {
   "cell_type": "markdown",
   "metadata": {},
   "source": [
    "Subiendo a Kaggle la prediccion anterior se obtiene en el Public Leaderboard 14.58786"
   ]
  }
 ],
 "metadata": {
  "kernelspec": {
   "display_name": "R",
   "language": "R",
   "name": "ir"
  },
  "language_info": {
   "codemirror_mode": "r",
   "file_extension": ".r",
   "mimetype": "text/x-r-source",
   "name": "R",
   "pygments_lexer": "r",
   "version": "4.0.5"
  }
 },
 "nbformat": 4,
 "nbformat_minor": 4
}
